{
 "cells": [
  {
   "cell_type": "code",
   "execution_count": 1,
   "id": "1fcd8476-b5b0-4cf6-ac9e-5c7df5f5dd9f",
   "metadata": {
    "tags": []
   },
   "outputs": [],
   "source": [
    "import pandas as pd\n",
    "import mlflow\n",
    "import mlflow.xgboost\n",
    "from sklearn.model_selection import train_test_split\n",
    "from sklearn.metrics import accuracy_score\n",
    "from xgboost import XGBClassifier"
   ]
  },
  {
   "cell_type": "code",
   "execution_count": 2,
   "id": "eb124c5c-41c0-4154-93c5-9d04546b9c86",
   "metadata": {
    "tags": []
   },
   "outputs": [],
   "source": [
    "df = pd.read_csv('data/data-cleaned.csv')\n",
    "\n",
    "# Define X and y if not already defined\n",
    "X = df.drop(\"output\", axis=1)\n",
    "y = df[\"output\"]\n",
    "\n",
    "# Split data\n",
    "X_train, X_test, y_train, y_test = train_test_split(X, y, test_size=0.2, random_state=42)"
   ]
  },
  {
   "cell_type": "code",
   "execution_count": 4,
   "id": "9a2902f3-bac5-4bcc-8345-3f5e639ba819",
   "metadata": {
    "tags": []
   },
   "outputs": [],
   "source": [
    "# # Set up MLflow tracking URI\n",
    "# mlflow.set_tracking_uri(\"http://localhost:5000\")\n",
    "# mlflow.set_experiment(\"heart_attack_training\")\n",
    "\n",
    "# with mlflow.start_run():\n",
    "#     # Model training with XGBoost\n",
    "#     model = XGBClassifier(use_label_encoder=False, eval_metric='logloss')\n",
    "#     model.fit(X_train, y_train)\n",
    "\n",
    "#     # Model evaluation\n",
    "#     predictions = model.predict(X_test)\n",
    "#     accuracy = accuracy_score(y_test, predictions)\n",
    "\n",
    "#     # Log model parameters, metrics, and model itself\n",
    "#     mlflow.log_param(\"model_type\", \"XGBoost\")\n",
    "#     mlflow.log_metric(\"accuracy\", accuracy)\n",
    "#     mlflow.xgboost.log_model(model, \"model\")\n"
   ]
  },
  {
   "cell_type": "code",
   "execution_count": 3,
   "id": "d598256b-1ff6-4616-adb9-96e943ee27f3",
   "metadata": {
    "tags": []
   },
   "outputs": [
    {
     "name": "stderr",
     "output_type": "stream",
     "text": [
      "2024/11/10 13:06:55 INFO mlflow.tracking.fluent: Experiment with name 'heart_attack_training' does not exist. Creating a new experiment.\n",
      "/opt/conda/lib/python3.11/site-packages/_distutils_hack/__init__.py:33: UserWarning: Setuptools is replacing distutils.\n",
      "  warnings.warn(\"Setuptools is replacing distutils.\")\n"
     ]
    }
   ],
   "source": [
    "# Set up MLflow tracking URI\n",
    "mlflow.set_tracking_uri(\"http://mlflow:5000\")\n",
    "mlflow.set_experiment(\"heart_attack_training\")\n",
    "\n",
    "with mlflow.start_run():\n",
    "    # Model training with XGBoost\n",
    "    model = XGBClassifier(use_label_encoder=False, eval_metric='logloss')\n",
    "    model.fit(X_train, y_train)\n",
    "\n",
    "    # Model evaluation\n",
    "    predictions = model.predict(X_test)\n",
    "    accuracy = accuracy_score(y_test, predictions)\n",
    "\n",
    "    # Log model parameters, metrics, and model itself\n",
    "    mlflow.log_param(\"model_type\", \"XGBoost\")\n",
    "    mlflow.log_metric(\"accuracy\", accuracy)\n",
    "    \n",
    "    # Specify the path for saving the model\n",
    "    mlflow.xgboost.log_model(model.get_booster(), artifact_path=\"models\")\n"
   ]
  },
  {
   "cell_type": "code",
   "execution_count": null,
   "id": "a28c4927-1436-481c-a84c-7243f4436849",
   "metadata": {},
   "outputs": [],
   "source": []
  }
 ],
 "metadata": {
  "kernelspec": {
   "display_name": "Python 3 (ipykernel)",
   "language": "python",
   "name": "python3"
  },
  "language_info": {
   "codemirror_mode": {
    "name": "ipython",
    "version": 3
   },
   "file_extension": ".py",
   "mimetype": "text/x-python",
   "name": "python",
   "nbconvert_exporter": "python",
   "pygments_lexer": "ipython3",
   "version": "3.11.6"
  }
 },
 "nbformat": 4,
 "nbformat_minor": 5
}
