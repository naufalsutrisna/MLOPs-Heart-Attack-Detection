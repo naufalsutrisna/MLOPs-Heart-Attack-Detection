{
 "cells": [
  {
   "cell_type": "code",
   "execution_count": 1,
   "id": "1fcd8476-b5b0-4cf6-ac9e-5c7df5f5dd9f",
   "metadata": {
    "tags": []
   },
   "outputs": [],
   "source": [
    "import pandas as pd\n",
    "import mlflow\n",
    "import mlflow.xgboost\n",
    "from sklearn.model_selection import train_test_split\n",
    "from sklearn.metrics import accuracy_score\n",
    "from xgboost import XGBClassifier"
   ]
  },
  {
   "cell_type": "code",
   "execution_count": 2,
   "id": "eb124c5c-41c0-4154-93c5-9d04546b9c86",
   "metadata": {
    "tags": []
   },
   "outputs": [],
   "source": [
    "df = pd.read_csv('data/data-cleaned.csv')\n",
    "\n",
    "# Define X and y if not already defined\n",
    "X = df.drop(\"output\", axis=1)\n",
    "y = df[\"output\"]\n",
    "\n",
    "# Split data\n",
    "X_train, X_test, y_train, y_test = train_test_split(X, y, test_size=0.2, random_state=42)"
   ]
  },
  {
   "cell_type": "code",
   "execution_count": 11,
   "id": "a28c4927-1436-481c-a84c-7243f4436849",
   "metadata": {
    "tags": []
   },
   "outputs": [
    {
     "name": "stderr",
     "output_type": "stream",
     "text": [
      "Registered model 'heart_attack_model' already exists. Creating a new version of this model...\n",
      "2024/11/10 13:35:02 INFO mlflow.tracking._model_registry.client: Waiting up to 300 seconds for model version to finish creation. Model name: heart_attack_model, version 2\n"
     ]
    },
    {
     "name": "stdout",
     "output_type": "stream",
     "text": [
      "Model registered with version: 2\n"
     ]
    },
    {
     "name": "stderr",
     "output_type": "stream",
     "text": [
      "Created version '2' of model 'heart_attack_model'.\n"
     ]
    }
   ],
   "source": [
    "# Set up MLflow tracking URI\n",
    "mlflow.set_tracking_uri(\"http://mlflow:5000\")\n",
    "mlflow.set_experiment(\"heart_attack_training\")\n",
    "\n",
    "def training(max_depth, learning_rate, n_estimators):\n",
    "    with mlflow.start_run():\n",
    "        # Define model and hyperparameters\n",
    "        model = XGBClassifier(max_depth=max_depth, learning_rate=learning_rate, n_estimators=n_estimators)\n",
    "        model.fit(X_train, y_train)\n",
    "\n",
    "        # Evaluate the model\n",
    "        predictions = model.predict(X_test)\n",
    "        accuracy = accuracy_score(y_test, predictions)\n",
    "\n",
    "        # Log parameters and metrics\n",
    "        mlflow.log_param(\"max_depth\", max_depth)\n",
    "        mlflow.log_param(\"learning_rate\", learning_rate)\n",
    "        mlflow.log_param(\"n_estimators\", n_estimators)\n",
    "        mlflow.log_metric(\"accuracy\", accuracy)\n",
    "\n",
    "        # Log the model\n",
    "        mlflow.xgboost.log_model(model, artifact_path=\"models\")\n",
    "\n",
    "        # Register the model\n",
    "        model_uri = f\"runs:/{mlflow.active_run().info.run_id}/models\"\n",
    "        model_name = \"heart_attack_model\"\n",
    "        registered_model = mlflow.register_model(model_uri, model_name)\n",
    "\n",
    "        print(f\"Model registered with version: {registered_model.version}\")\n",
    "\n",
    "# Run the training\n",
    "training(max_depth=3, \n",
    "         learning_rate=0.1, \n",
    "         n_estimators=100)"
   ]
  },
  {
   "cell_type": "code",
   "execution_count": null,
   "id": "65ed3877-a477-46b2-a64b-e527e784e9fd",
   "metadata": {},
   "outputs": [],
   "source": []
  }
 ],
 "metadata": {
  "kernelspec": {
   "display_name": "Python 3 (ipykernel)",
   "language": "python",
   "name": "python3"
  },
  "language_info": {
   "codemirror_mode": {
    "name": "ipython",
    "version": 3
   },
   "file_extension": ".py",
   "mimetype": "text/x-python",
   "name": "python",
   "nbconvert_exporter": "python",
   "pygments_lexer": "ipython3",
   "version": "3.11.6"
  }
 },
 "nbformat": 4,
 "nbformat_minor": 5
}
