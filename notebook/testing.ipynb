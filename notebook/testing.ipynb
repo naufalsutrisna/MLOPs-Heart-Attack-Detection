{
 "cells": [
  {
   "cell_type": "code",
   "execution_count": 1,
   "id": "3363f195-772f-4b2f-bd64-12b2dcf120d2",
   "metadata": {
    "tags": []
   },
   "outputs": [],
   "source": [
    "import mlflow\n",
    "import mlflow.xgboost\n",
    "import pandas as pd\n",
    "import xgboost as xgb"
   ]
  },
  {
   "cell_type": "code",
   "execution_count": 5,
   "id": "0567ac4b-c91d-4467-9a26-d696472b8e97",
   "metadata": {},
   "outputs": [
    {
     "data": {
      "text/plain": [
       "<Experiment: artifact_location='s3://mlflow/1', creation_time=1734256979943, experiment_id='1', last_update_time=1734256979943, lifecycle_stage='active', name='experiment_heart_attack', tags={}>"
      ]
     },
     "execution_count": 5,
     "metadata": {},
     "output_type": "execute_result"
    }
   ],
   "source": [
    "mlflow.set_tracking_uri(\"http://mlflow-web:5000\")\n",
    "mlflow.set_experiment(\"experiment_heart_attack\")"
   ]
  },
  {
   "cell_type": "code",
   "execution_count": 8,
   "id": "0b6f0f39-f4ad-44c4-9b8d-af19d47f61c5",
   "metadata": {
    "tags": []
   },
   "outputs": [
    {
     "name": "stderr",
     "output_type": "stream",
     "text": [
      "/opt/conda/lib/python3.11/site-packages/mlflow/store/artifact/utils/models.py:31: FutureWarning: ``mlflow.tracking.client.MlflowClient.get_latest_versions`` is deprecated since 2.9.0. Model registry stages will be removed in a future major release. To learn more about the deprecation of model registry stages, see our migration guide here: https://mlflow.org/docs/latest/model-registry.html#migrating-from-stages\n",
      "  latest = client.get_latest_versions(name, None if stage is None else [stage])\n"
     ]
    },
    {
     "data": {
      "application/vnd.jupyter.widget-view+json": {
       "model_id": "5b9e2342664f48939b63f27332f96cd9",
       "version_major": 2,
       "version_minor": 0
      },
      "text/plain": [
       "Downloading artifacts:   0%|          | 0/5 [00:00<?, ?it/s]"
      ]
     },
     "metadata": {},
     "output_type": "display_data"
    },
    {
     "name": "stdout",
     "output_type": "stream",
     "text": [
      "[1]\n"
     ]
    }
   ],
   "source": [
    "# Memuat model dari registry\n",
    "model_uri = \"models:/Heart Attack Model/latest\"\n",
    "model = mlflow.xgboost.load_model(model_uri)\n",
    "\n",
    "# Misalnya data yang ingin diprediksi\n",
    "data = {\n",
    "    'age': [63],\n",
    "    'sex': [1],\n",
    "    'cp': [3],\n",
    "    'trtbps': [145],\n",
    "    'chol': [233],\n",
    "    'fbs': [1],\n",
    "    'restecg': [0],\n",
    "    'thalachh': [150],\n",
    "    'exng': [0],\n",
    "    'oldpeak': [2.3],\n",
    "    'slp': [3],\n",
    "    'caa': [0],\n",
    "    'thall': [1]\n",
    "}\n",
    "\n",
    "# Mengonversi data ke DataFrame\n",
    "df = pd.DataFrame(data)\n",
    "\n",
    "# Melakukan prediksi dengan model yang telah dimuat\n",
    "predictions = model.predict(df)\n",
    "print(predictions)"
   ]
  },
  {
   "cell_type": "code",
   "execution_count": null,
   "id": "1580dd2e-bd23-4091-af47-507c658bba06",
   "metadata": {},
   "outputs": [],
   "source": []
  }
 ],
 "metadata": {
  "kernelspec": {
   "display_name": "Python 3 (ipykernel)",
   "language": "python",
   "name": "python3"
  },
  "language_info": {
   "codemirror_mode": {
    "name": "ipython",
    "version": 3
   },
   "file_extension": ".py",
   "mimetype": "text/x-python",
   "name": "python",
   "nbconvert_exporter": "python",
   "pygments_lexer": "ipython3",
   "version": "3.11.6"
  }
 },
 "nbformat": 4,
 "nbformat_minor": 5
}
