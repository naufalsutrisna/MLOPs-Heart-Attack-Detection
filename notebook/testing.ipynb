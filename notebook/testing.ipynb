{
 "cells": [
  {
   "cell_type": "code",
   "execution_count": 1,
   "id": "3363f195-772f-4b2f-bd64-12b2dcf120d2",
   "metadata": {
    "tags": []
   },
   "outputs": [],
   "source": [
    "import mlflow\n",
    "import mlflow.xgboost\n",
    "import pandas as pd\n",
    "import xgboost as xgb"
   ]
  },
  {
   "cell_type": "code",
   "execution_count": 4,
   "id": "0b6f0f39-f4ad-44c4-9b8d-af19d47f61c5",
   "metadata": {
    "tags": []
   },
   "outputs": [
    {
     "name": "stdout",
     "output_type": "stream",
     "text": [
      "[1]\n"
     ]
    }
   ],
   "source": [
    "mlflow.set_tracking_uri(\"http://mlflow:5000\")\n",
    "mlflow.set_experiment(\"heart_attack_training\")\n",
    "\n",
    "# Memuat model dari registry\n",
    "model_uri = \"models:/heart_attack_model/latest\"  # Menyesuaikan dengan nama dan versi model\n",
    "model = mlflow.xgboost.load_model(model_uri)\n",
    "\n",
    "# Misalnya data yang ingin diprediksi\n",
    "data = {\n",
    "    'age': [63],\n",
    "    'sex': [1],\n",
    "    'cp': [3],\n",
    "    'trestbps': [145],\n",
    "    'chol': [233],\n",
    "    'fbs': [1],\n",
    "    'restecg': [0],\n",
    "    'thalach': [150],\n",
    "    'exang': [0],\n",
    "    'oldpeak': [2.3],\n",
    "    'slope': [3],\n",
    "    'ca': [0],\n",
    "    'thal': [1]\n",
    "}\n",
    "\n",
    "# Mengonversi data ke DataFrame\n",
    "df = pd.DataFrame(data)\n",
    "\n",
    "# Melakukan prediksi dengan model yang telah dimuat\n",
    "predictions = model.predict(df)\n",
    "\n",
    "print(predictions)"
   ]
  },
  {
   "cell_type": "code",
   "execution_count": null,
   "id": "1580dd2e-bd23-4091-af47-507c658bba06",
   "metadata": {},
   "outputs": [],
   "source": []
  }
 ],
 "metadata": {
  "kernelspec": {
   "display_name": "Python 3 (ipykernel)",
   "language": "python",
   "name": "python3"
  },
  "language_info": {
   "codemirror_mode": {
    "name": "ipython",
    "version": 3
   },
   "file_extension": ".py",
   "mimetype": "text/x-python",
   "name": "python",
   "nbconvert_exporter": "python",
   "pygments_lexer": "ipython3",
   "version": "3.11.6"
  }
 },
 "nbformat": 4,
 "nbformat_minor": 5
}
